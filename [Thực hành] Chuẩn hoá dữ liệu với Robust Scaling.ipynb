{
 "cells": [
  {
   "cell_type": "markdown",
   "id": "06a7589b",
   "metadata": {},
   "source": [
    "### 1. Khai báo thư viện cần dùng"
   ]
  },
  {
   "cell_type": "code",
   "execution_count": 1,
   "id": "3ba88bc8",
   "metadata": {},
   "outputs": [],
   "source": [
    "import pandas as pd\n",
    "import numpy as np\n",
    "import matplotlib.pyplot as plt\n",
    "import seaborn as sns\n",
    "from sklearn.preprocessing import RobustScaler"
   ]
  },
  {
   "cell_type": "markdown",
   "id": "f1ad5010",
   "metadata": {},
   "source": [
    "### 2. Khởi tạo dữ liệu"
   ]
  },
  {
   "cell_type": "code",
   "execution_count": 2,
   "id": "e38de52e",
   "metadata": {},
   "outputs": [],
   "source": [
    "# tạo các cột theo các phần phối khác nhau\n",
    "df = pd.DataFrame({ \n",
    "    'beta': np.random.beta(5, 1, 1000) * 60,        # beta\n",
    "    'exponential': np.random.exponential(10, 1000), # exponential\n",
    "    'normal_p': np.random.normal(10, 2, 1000),      # normal platykurtic\n",
    "    'normal_l': np.random.normal(10, 10, 1000),     # normal leptokurtic\n",
    "})"
   ]
  },
  {
   "cell_type": "code",
   "execution_count": 3,
   "id": "bdaafc1f",
   "metadata": {},
   "outputs": [],
   "source": [
    "# thêm dữ liệu được tạo theo phân phối nhị thức\n",
    "first_half = np.random.normal(20, 3, 500) \n",
    "second_half = np.random.normal(-20, 3, 500) \n",
    "bimodal = np.concatenate([first_half, second_half])\n",
    "\n",
    "df['bimodal'] = bimodal"
   ]
  },
  {
   "cell_type": "code",
   "execution_count": 4,
   "id": "cba0ea0d",
   "metadata": {},
   "outputs": [
    {
     "data": {
      "text/html": [
       "<div>\n",
       "<style scoped>\n",
       "    .dataframe tbody tr th:only-of-type {\n",
       "        vertical-align: middle;\n",
       "    }\n",
       "\n",
       "    .dataframe tbody tr th {\n",
       "        vertical-align: top;\n",
       "    }\n",
       "\n",
       "    .dataframe thead th {\n",
       "        text-align: right;\n",
       "    }\n",
       "</style>\n",
       "<table border=\"1\" class=\"dataframe\">\n",
       "  <thead>\n",
       "    <tr style=\"text-align: right;\">\n",
       "      <th></th>\n",
       "      <th>beta</th>\n",
       "      <th>exponential</th>\n",
       "      <th>normal_p</th>\n",
       "      <th>normal_l</th>\n",
       "      <th>bimodal</th>\n",
       "    </tr>\n",
       "  </thead>\n",
       "  <tbody>\n",
       "    <tr>\n",
       "      <th>0</th>\n",
       "      <td>51.167815</td>\n",
       "      <td>3.498775</td>\n",
       "      <td>8.872223</td>\n",
       "      <td>24.651297</td>\n",
       "      <td>19.570379</td>\n",
       "    </tr>\n",
       "    <tr>\n",
       "      <th>1</th>\n",
       "      <td>35.668804</td>\n",
       "      <td>24.019604</td>\n",
       "      <td>13.426690</td>\n",
       "      <td>9.313608</td>\n",
       "      <td>22.869191</td>\n",
       "    </tr>\n",
       "    <tr>\n",
       "      <th>2</th>\n",
       "      <td>59.757207</td>\n",
       "      <td>5.185648</td>\n",
       "      <td>9.291384</td>\n",
       "      <td>4.755899</td>\n",
       "      <td>17.712499</td>\n",
       "    </tr>\n",
       "    <tr>\n",
       "      <th>3</th>\n",
       "      <td>57.970050</td>\n",
       "      <td>1.605592</td>\n",
       "      <td>9.717319</td>\n",
       "      <td>17.476248</td>\n",
       "      <td>17.837036</td>\n",
       "    </tr>\n",
       "    <tr>\n",
       "      <th>4</th>\n",
       "      <td>44.853240</td>\n",
       "      <td>3.740646</td>\n",
       "      <td>13.068788</td>\n",
       "      <td>4.392477</td>\n",
       "      <td>22.293893</td>\n",
       "    </tr>\n",
       "  </tbody>\n",
       "</table>\n",
       "</div>"
      ],
      "text/plain": [
       "        beta  exponential   normal_p   normal_l    bimodal\n",
       "0  51.167815     3.498775   8.872223  24.651297  19.570379\n",
       "1  35.668804    24.019604  13.426690   9.313608  22.869191\n",
       "2  59.757207     5.185648   9.291384   4.755899  17.712499\n",
       "3  57.970050     1.605592   9.717319  17.476248  17.837036\n",
       "4  44.853240     3.740646  13.068788   4.392477  22.293893"
      ]
     },
     "execution_count": 4,
     "metadata": {},
     "output_type": "execute_result"
    }
   ],
   "source": [
    "# hiển thị dữ liệu\n",
    "df.head()"
   ]
  },
  {
   "cell_type": "markdown",
   "id": "e54b1e9e",
   "metadata": {},
   "source": [
    "### 3. Trực quan hoá dữ liệu sinh ra "
   ]
  },
  {
   "cell_type": "code",
   "execution_count": 5,
   "id": "d17db988",
   "metadata": {},
   "outputs": [
    {
     "data": {
      "text/plain": [
       "<AxesSubplot:ylabel='Density'>"
      ]
     },
     "execution_count": 5,
     "metadata": {},
     "output_type": "execute_result"
    },
    {
     "data": {
      "image/png": "[encoded data removed]",
      "text/plain": [
       "<Figure size 432x288 with 1 Axes>"
      ]
     },
     "metadata": {
      "needs_background": "light"
     },
     "output_type": "display_data"
    }
   ],
   "source": [
    "sns.kdeplot(data=df)\n"
   ]
  },
  {
   "cell_type": "markdown",
   "id": "f27f39d9",
   "metadata": {},
   "source": [
    "### 4. Hiển thị thống kê về dữ liệu sinh ra"
   ]
  },
  {
   "cell_type": "code",
   "execution_count": 6,
   "id": "8c6f5c69",
   "metadata": {},
   "outputs": [
    {
     "data": {
      "text/html": [
       "<div>\n",
       "<style scoped>\n",
       "    .dataframe tbody tr th:only-of-type {\n",
       "        vertical-align: middle;\n",
       "    }\n",
       "\n",
       "    .dataframe tbody tr th {\n",
       "        vertical-align: top;\n",
       "    }\n",
       "\n",
       "    .dataframe thead th {\n",
       "        text-align: right;\n",
       "    }\n",
       "</style>\n",
       "<table border=\"1\" class=\"dataframe\">\n",
       "  <thead>\n",
       "    <tr style=\"text-align: right;\">\n",
       "      <th></th>\n",
       "      <th>beta</th>\n",
       "      <th>exponential</th>\n",
       "      <th>normal_p</th>\n",
       "      <th>normal_l</th>\n",
       "      <th>bimodal</th>\n",
       "    </tr>\n",
       "  </thead>\n",
       "  <tbody>\n",
       "    <tr>\n",
       "      <th>count</th>\n",
       "      <td>1000.000000</td>\n",
       "      <td>1000.000000</td>\n",
       "      <td>1000.000000</td>\n",
       "      <td>1000.000000</td>\n",
       "      <td>1000.000000</td>\n",
       "    </tr>\n",
       "    <tr>\n",
       "      <th>mean</th>\n",
       "      <td>50.333498</td>\n",
       "      <td>10.256038</td>\n",
       "      <td>10.022917</td>\n",
       "      <td>9.981066</td>\n",
       "      <td>0.021670</td>\n",
       "    </tr>\n",
       "    <tr>\n",
       "      <th>std</th>\n",
       "      <td>7.915569</td>\n",
       "      <td>10.279063</td>\n",
       "      <td>1.860262</td>\n",
       "      <td>9.995523</td>\n",
       "      <td>20.143885</td>\n",
       "    </tr>\n",
       "    <tr>\n",
       "      <th>min</th>\n",
       "      <td>18.124969</td>\n",
       "      <td>0.005705</td>\n",
       "      <td>4.021081</td>\n",
       "      <td>-22.792970</td>\n",
       "      <td>-29.157758</td>\n",
       "    </tr>\n",
       "    <tr>\n",
       "      <th>25%</th>\n",
       "      <td>46.052171</td>\n",
       "      <td>2.929831</td>\n",
       "      <td>8.818204</td>\n",
       "      <td>3.597283</td>\n",
       "      <td>-19.745621</td>\n",
       "    </tr>\n",
       "    <tr>\n",
       "      <th>50%</th>\n",
       "      <td>52.275288</td>\n",
       "      <td>7.101582</td>\n",
       "      <td>10.046092</td>\n",
       "      <td>9.968923</td>\n",
       "      <td>-0.232939</td>\n",
       "    </tr>\n",
       "    <tr>\n",
       "      <th>75%</th>\n",
       "      <td>56.701018</td>\n",
       "      <td>14.094862</td>\n",
       "      <td>11.250620</td>\n",
       "      <td>17.163226</td>\n",
       "      <td>19.964575</td>\n",
       "    </tr>\n",
       "    <tr>\n",
       "      <th>max</th>\n",
       "      <td>59.999636</td>\n",
       "      <td>67.272577</td>\n",
       "      <td>15.530811</td>\n",
       "      <td>38.306139</td>\n",
       "      <td>30.849036</td>\n",
       "    </tr>\n",
       "  </tbody>\n",
       "</table>\n",
       "</div>"
      ],
      "text/plain": [
       "              beta  exponential     normal_p     normal_l      bimodal\n",
       "count  1000.000000  1000.000000  1000.000000  1000.000000  1000.000000\n",
       "mean     50.333498    10.256038    10.022917     9.981066     0.021670\n",
       "std       7.915569    10.279063     1.860262     9.995523    20.143885\n",
       "min      18.124969     0.005705     4.021081   -22.792970   -29.157758\n",
       "25%      46.052171     2.929831     8.818204     3.597283   -19.745621\n",
       "50%      52.275288     7.101582    10.046092     9.968923    -0.232939\n",
       "75%      56.701018    14.094862    11.250620    17.163226    19.964575\n",
       "max      59.999636    67.272577    15.530811    38.306139    30.849036"
      ]
     },
     "execution_count": 6,
     "metadata": {},
     "output_type": "execute_result"
    }
   ],
   "source": [
    "df.describe()"
   ]
  },
  {
   "cell_type": "markdown",
   "id": "557ecffb",
   "metadata": {},
   "source": [
    "### 5. Thêm một đặc trưng với giá trị lớn hơn nhiều"
   ]
  },
  {
   "cell_type": "code",
   "execution_count": 7,
   "id": "d5feba0e",
   "metadata": {},
   "outputs": [
    {
     "data": {
      "text/plain": [
       "<AxesSubplot:ylabel='Density'>"
      ]
     },
     "execution_count": 7,
     "metadata": {},
     "output_type": "execute_result"
    },
    {
     "data": {
      "image/png": "[encoded data removed]",
      "text/plain": [
       "<Figure size 432x288 with 1 Axes>"
      ]
     },
     "metadata": {
      "needs_background": "light"
     },
     "output_type": "display_data"
    }
   ],
   "source": [
    "normal_big = np.random.normal(1000000, 10000, (1000,1))  # normal distribution of large values\n",
    "df['normal_big'] = normal_big\n",
    "sns.kdeplot(data=df)"
   ]
  },
  {
   "cell_type": "code",
   "execution_count": 8,
   "id": "23b32fdc",
   "metadata": {},
   "outputs": [
    {
     "data": {
      "text/plain": [
       "<AxesSubplot:>"
      ]
     },
     "execution_count": 8,
     "metadata": {},
     "output_type": "execute_result"
    },
    {
     "data": {
      "image/png": "[encoded data removed]",
      "text/plain": [
       "<Figure size 432x288 with 1 Axes>"
      ]
     },
     "metadata": {
      "needs_background": "light"
     },
     "output_type": "display_data"
    }
   ],
   "source": [
    "# trực quan hóa bằng biểu đồ box plot\n",
    "df.boxplot()"
   ]
  },
  {
   "cell_type": "markdown",
   "id": "67b48cac",
   "metadata": {},
   "source": [
    "### 6. Chuẩn hoá với Robust Scalling"
   ]
  },
  {
   "cell_type": "code",
   "execution_count": 10,
   "id": "427844fb",
   "metadata": {},
   "outputs": [],
   "source": [
    "# Khai báo đối tượng MinMaxScaler\n",
    "scaler = RobustScaler()"
   ]
  },
  {
   "cell_type": "code",
   "execution_count": 11,
   "id": "8c24c121",
   "metadata": {},
   "outputs": [],
   "source": [
    "# Chuẩn hóa dữ liệu trong df với StandardScaler\n",
    "df_s = scaler.fit_transform(df)\n",
    "\n",
    "# lấy danh sáchc cột\n",
    "col_names = list(df.columns)\n",
    "\n",
    "# chuyển về DataFrame, gán các cột của df cho dữ liệu đã được chuẩn hóa\n",
    "df_s = pd.DataFrame(df_s, columns=col_names)"
   ]
  },
  {
   "cell_type": "code",
   "execution_count": 12,
   "id": "349aaee9",
   "metadata": {},
   "outputs": [
    {
     "data": {
      "text/html": [
       "<div>\n",
       "<style scoped>\n",
       "    .dataframe tbody tr th:only-of-type {\n",
       "        vertical-align: middle;\n",
       "    }\n",
       "\n",
       "    .dataframe tbody tr th {\n",
       "        vertical-align: top;\n",
       "    }\n",
       "\n",
       "    .dataframe thead th {\n",
       "        text-align: right;\n",
       "    }\n",
       "</style>\n",
       "<table border=\"1\" class=\"dataframe\">\n",
       "  <thead>\n",
       "    <tr style=\"text-align: right;\">\n",
       "      <th></th>\n",
       "      <th>beta</th>\n",
       "      <th>exponential</th>\n",
       "      <th>normal_p</th>\n",
       "      <th>normal_l</th>\n",
       "      <th>bimodal</th>\n",
       "      <th>normal_big</th>\n",
       "    </tr>\n",
       "  </thead>\n",
       "  <tbody>\n",
       "    <tr>\n",
       "      <th>0</th>\n",
       "      <td>-0.103999</td>\n",
       "      <td>-0.322687</td>\n",
       "      <td>-0.482594</td>\n",
       "      <td>1.082297</td>\n",
       "      <td>0.498696</td>\n",
       "      <td>-0.004460</td>\n",
       "    </tr>\n",
       "    <tr>\n",
       "      <th>1</th>\n",
       "      <td>-1.559463</td>\n",
       "      <td>1.515269</td>\n",
       "      <td>1.389810</td>\n",
       "      <td>-0.048306</td>\n",
       "      <td>0.581768</td>\n",
       "      <td>-1.315952</td>\n",
       "    </tr>\n",
       "    <tr>\n",
       "      <th>2</th>\n",
       "      <td>0.702604</td>\n",
       "      <td>-0.171601</td>\n",
       "      <td>-0.310271</td>\n",
       "      <td>-0.384273</td>\n",
       "      <td>0.451910</td>\n",
       "      <td>0.208612</td>\n",
       "    </tr>\n",
       "    <tr>\n",
       "      <th>3</th>\n",
       "      <td>0.534777</td>\n",
       "      <td>-0.492250</td>\n",
       "      <td>-0.135163</td>\n",
       "      <td>0.553395</td>\n",
       "      <td>0.455046</td>\n",
       "      <td>0.624058</td>\n",
       "    </tr>\n",
       "    <tr>\n",
       "      <th>4</th>\n",
       "      <td>-0.696981</td>\n",
       "      <td>-0.301023</td>\n",
       "      <td>1.242672</td>\n",
       "      <td>-0.411062</td>\n",
       "      <td>0.567281</td>\n",
       "      <td>0.268302</td>\n",
       "    </tr>\n",
       "  </tbody>\n",
       "</table>\n",
       "</div>"
      ],
      "text/plain": [
       "       beta  exponential  normal_p  normal_l   bimodal  normal_big\n",
       "0 -0.103999    -0.322687 -0.482594  1.082297  0.498696   -0.004460\n",
       "1 -1.559463     1.515269  1.389810 -0.048306  0.581768   -1.315952\n",
       "2  0.702604    -0.171601 -0.310271 -0.384273  0.451910    0.208612\n",
       "3  0.534777    -0.492250 -0.135163  0.553395  0.455046    0.624058\n",
       "4 -0.696981    -0.301023  1.242672 -0.411062  0.567281    0.268302"
      ]
     },
     "execution_count": 12,
     "metadata": {},
     "output_type": "execute_result"
    }
   ],
   "source": [
    "df_s.head()\n"
   ]
  },
  {
   "cell_type": "code",
   "execution_count": 13,
   "id": "3a596dd6",
   "metadata": {},
   "outputs": [
    {
     "data": {
      "text/plain": [
       "<AxesSubplot:ylabel='Density'>"
      ]
     },
     "execution_count": 13,
     "metadata": {},
     "output_type": "execute_result"
    },
    {
     "data": {
      "image/png": "[encoded data removed]",
      "text/plain": [
       "<Figure size 432x288 with 1 Axes>"
      ]
     },
     "metadata": {
      "needs_background": "light"
     },
     "output_type": "display_data"
    }
   ],
   "source": [
    "# biểu diễn dữ liệu đã được chuẩn hóa\n",
    "sns.kdeplot(data=df_s)"
   ]
  },
  {
   "cell_type": "code",
   "execution_count": 14,
   "id": "3ca52218",
   "metadata": {},
   "outputs": [
    {
     "data": {
      "text/html": [
       "<div>\n",
       "<style scoped>\n",
       "    .dataframe tbody tr th:only-of-type {\n",
       "        vertical-align: middle;\n",
       "    }\n",
       "\n",
       "    .dataframe tbody tr th {\n",
       "        vertical-align: top;\n",
       "    }\n",
       "\n",
       "    .dataframe thead th {\n",
       "        text-align: right;\n",
       "    }\n",
       "</style>\n",
       "<table border=\"1\" class=\"dataframe\">\n",
       "  <thead>\n",
       "    <tr style=\"text-align: right;\">\n",
       "      <th></th>\n",
       "      <th>beta</th>\n",
       "      <th>exponential</th>\n",
       "      <th>normal_p</th>\n",
       "      <th>normal_l</th>\n",
       "      <th>bimodal</th>\n",
       "      <th>normal_big</th>\n",
       "    </tr>\n",
       "  </thead>\n",
       "  <tbody>\n",
       "    <tr>\n",
       "      <th>count</th>\n",
       "      <td>1000.000000</td>\n",
       "      <td>1000.000000</td>\n",
       "      <td>1000.000000</td>\n",
       "      <td>1.000000e+03</td>\n",
       "      <td>1000.000000</td>\n",
       "      <td>1.000000e+03</td>\n",
       "    </tr>\n",
       "    <tr>\n",
       "      <th>mean</th>\n",
       "      <td>-0.182347</td>\n",
       "      <td>0.282530</td>\n",
       "      <td>-0.009528</td>\n",
       "      <td>8.950919e-04</td>\n",
       "      <td>0.006412</td>\n",
       "      <td>-3.016381e-03</td>\n",
       "    </tr>\n",
       "    <tr>\n",
       "      <th>std</th>\n",
       "      <td>0.743326</td>\n",
       "      <td>0.920648</td>\n",
       "      <td>0.764779</td>\n",
       "      <td>7.368100e-01</td>\n",
       "      <td>0.507272</td>\n",
       "      <td>7.753021e-01</td>\n",
       "    </tr>\n",
       "    <tr>\n",
       "      <th>min</th>\n",
       "      <td>-3.206950</td>\n",
       "      <td>-0.635545</td>\n",
       "      <td>-2.476965</td>\n",
       "      <td>-2.415010e+00</td>\n",
       "      <td>-0.728398</td>\n",
       "      <td>-2.626608e+00</td>\n",
       "    </tr>\n",
       "    <tr>\n",
       "      <th>25%</th>\n",
       "      <td>-0.584394</td>\n",
       "      <td>-0.373644</td>\n",
       "      <td>-0.504802</td>\n",
       "      <td>-4.696791e-01</td>\n",
       "      <td>-0.491377</td>\n",
       "      <td>-5.077346e-01</td>\n",
       "    </tr>\n",
       "    <tr>\n",
       "      <th>50%</th>\n",
       "      <td>0.000000</td>\n",
       "      <td>0.000000</td>\n",
       "      <td>0.000000</td>\n",
       "      <td>6.548581e-17</td>\n",
       "      <td>0.000000</td>\n",
       "      <td>-4.476020e-15</td>\n",
       "    </tr>\n",
       "    <tr>\n",
       "      <th>75%</th>\n",
       "      <td>0.415606</td>\n",
       "      <td>0.626356</td>\n",
       "      <td>0.495198</td>\n",
       "      <td>5.303209e-01</td>\n",
       "      <td>0.508623</td>\n",
       "      <td>4.922654e-01</td>\n",
       "    </tr>\n",
       "    <tr>\n",
       "      <th>max</th>\n",
       "      <td>0.725369</td>\n",
       "      <td>5.389237</td>\n",
       "      <td>2.254844</td>\n",
       "      <td>2.088850e+00</td>\n",
       "      <td>0.782720</td>\n",
       "      <td>2.522177e+00</td>\n",
       "    </tr>\n",
       "  </tbody>\n",
       "</table>\n",
       "</div>"
      ],
      "text/plain": [
       "              beta  exponential     normal_p      normal_l      bimodal  \\\n",
       "count  1000.000000  1000.000000  1000.000000  1.000000e+03  1000.000000   \n",
       "mean     -0.182347     0.282530    -0.009528  8.950919e-04     0.006412   \n",
       "std       0.743326     0.920648     0.764779  7.368100e-01     0.507272   \n",
       "min      -3.206950    -0.635545    -2.476965 -2.415010e+00    -0.728398   \n",
       "25%      -0.584394    -0.373644    -0.504802 -4.696791e-01    -0.491377   \n",
       "50%       0.000000     0.000000     0.000000  6.548581e-17     0.000000   \n",
       "75%       0.415606     0.626356     0.495198  5.303209e-01     0.508623   \n",
       "max       0.725369     5.389237     2.254844  2.088850e+00     0.782720   \n",
       "\n",
       "         normal_big  \n",
       "count  1.000000e+03  \n",
       "mean  -3.016381e-03  \n",
       "std    7.753021e-01  \n",
       "min   -2.626608e+00  \n",
       "25%   -5.077346e-01  \n",
       "50%   -4.476020e-15  \n",
       "75%    4.922654e-01  \n",
       "max    2.522177e+00  "
      ]
     },
     "execution_count": 14,
     "metadata": {},
     "output_type": "execute_result"
    }
   ],
   "source": [
    "# thống kê về dữ liệu được sinh ra\n",
    "df_s.describe()"
   ]
  },
  {
   "cell_type": "code",
   "execution_count": 15,
   "id": "8e1f13c4",
   "metadata": {},
   "outputs": [
    {
     "data": {
      "text/plain": [
       "<AxesSubplot:>"
      ]
     },
     "execution_count": 15,
     "metadata": {},
     "output_type": "execute_result"
    },
    {
     "data": {
      "image/png": "[encoded data removed]",
      "text/plain": [
       "<Figure size 432x288 with 1 Axes>"
      ]
     },
     "metadata": {
      "needs_background": "light"
     },
     "output_type": "display_data"
    }
   ],
   "source": [
    "df_s.boxplot()\n"
   ]
  },
  {
   "cell_type": "code",
   "execution_count": 16,
   "id": "f9bcb539",
   "metadata": {},
   "outputs": [
    {
     "data": {
      "text/plain": [
       "[-3.2069500885492395,\n",
       " -0.63554472916981,\n",
       " -2.4769650878534044,\n",
       " -2.4150102488671212,\n",
       " -0.7283977921990522,\n",
       " -2.626607717440873]"
      ]
     },
     "execution_count": 16,
     "metadata": {},
     "output_type": "execute_result"
    }
   ],
   "source": [
    "# lấy các giá trị min ở mỗi cột\n",
    "mins = [df_s[col].min() for col in df_s.columns]\n",
    "mins"
   ]
  },
  {
   "cell_type": "code",
   "execution_count": 17,
   "id": "d32810d5",
   "metadata": {},
   "outputs": [
    {
     "data": {
      "text/plain": [
       "[0.7253693769675503,\n",
       " 5.389236751776457,\n",
       " 2.254843616073005,\n",
       " 2.08884957156378,\n",
       " 0.7827202831152555,\n",
       " 2.522177338530196]"
      ]
     },
     "execution_count": 17,
     "metadata": {},
     "output_type": "execute_result"
    }
   ],
   "source": [
    "# lấy giá trị max ở mỗi cột\n",
    "maxs = [df_s[col].max() for col in df_s.columns]\n",
    "maxs"
   ]
  },
  {
   "cell_type": "code",
   "execution_count": 18,
   "id": "c5a4ac3a",
   "metadata": {},
   "outputs": [
    {
     "data": {
      "text/plain": [
       "array([ 5.22752884e+01,  7.10158153e+00,  1.00460922e+01,  9.96892315e+00,\n",
       "       -2.32939228e-01,  9.99910680e+05])"
      ]
     },
     "execution_count": 18,
     "metadata": {},
     "output_type": "execute_result"
    }
   ],
   "source": [
    "# giá trị trung vị của các đặc trưng của tập dữ liệu gốc\n",
    "scaler.center_\n"
   ]
  }
 ],
 "metadata": {
  "kernelspec": {
   "display_name": "Python 3 (ipykernel)",
   "language": "python",
   "name": "python3"
  },
  "language_info": {
   "codemirror_mode": {
    "name": "ipython",
    "version": 3
   },
   "file_extension": ".py",
   "mimetype": "text/x-python",
   "name": "python",
   "nbconvert_exporter": "python",
   "pygments_lexer": "ipython3",
   "version": "3.9.12"
  }
 },
 "nbformat": 4,
 "nbformat_minor": 5
}
